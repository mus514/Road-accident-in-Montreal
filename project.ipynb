{
 "cells": [
  {
   "cell_type": "code",
   "execution_count": 43,
   "metadata": {
    "vscode": {
     "languageId": "r"
    }
   },
   "outputs": [],
   "source": [
    "library(\"ggplot2\")\n",
    "library(\"kableExtra\")\n",
    "library(\"stringr\")\n",
    "library(\"FNN\")\n",
    "library(\"pROC\")\n",
    "library(\"caret\")\n",
    "library(\"dplyr\")\n",
    "library(\"glmnet\")\n",
    "library(\"rpart\")\n",
    "library(\"randomForest\")\n",
    "library(\"partykit\")\n",
    "library(\"gbm\")\n",
    "library(\"iml\")\n",
    "library(\"ROCR\")\n",
    "library(\"rpart.plot\")\n",
    "library(\"rockchalk\")\n",
    "library(\"dummies\")\n",
    "library(\"MASS\")\n",
    "library(\"ggpubr\")"
   ]
  },
  {
   "cell_type": "code",
   "execution_count": 34,
   "metadata": {
    "vscode": {
     "languageId": "r"
    }
   },
   "outputs": [],
   "source": [
    "set.seed(42)"
   ]
  },
  {
   "cell_type": "markdown",
   "metadata": {},
   "source": [
    "# Exploratory Data Analysis\n",
    "\n",
    "## Data Cleaning"
   ]
  },
  {
   "cell_type": "code",
   "execution_count": 46,
   "metadata": {
    "vscode": {
     "languageId": "r"
    }
   },
   "outputs": [
    {
     "data": {
      "text/html": [
       "<table class=\"dataframe\">\n",
       "<caption>A data.frame: 5 × 59</caption>\n",
       "<thead>\n",
       "\t<tr><th></th><th scope=col>int_no</th><th scope=col>x</th><th scope=col>y</th><th scope=col>rue_1</th><th scope=col>rue_2</th><th scope=col>street_1</th><th scope=col>street_2</th><th scope=col>date_</th><th scope=col>all_pedest</th><th scope=col>pi</th><th scope=col>⋯</th><th scope=col>any_exclus</th><th scope=col>commercial</th><th scope=col>curb_exten</th><th scope=col>all_red_an</th><th scope=col>new_half_r</th><th scope=col>distdt</th><th scope=col>ln_distdt</th><th scope=col>traffic_10000</th><th scope=col>ped_100</th><th scope=col>borough</th></tr>\n",
       "\t<tr><th></th><th scope=col>&lt;int&gt;</th><th scope=col>&lt;dbl&gt;</th><th scope=col>&lt;dbl&gt;</th><th scope=col>&lt;fct&gt;</th><th scope=col>&lt;fct&gt;</th><th scope=col>&lt;fct&gt;</th><th scope=col>&lt;fct&gt;</th><th scope=col>&lt;fct&gt;</th><th scope=col>&lt;int&gt;</th><th scope=col>&lt;dbl&gt;</th><th scope=col>⋯</th><th scope=col>&lt;int&gt;</th><th scope=col>&lt;int&gt;</th><th scope=col>&lt;int&gt;</th><th scope=col>&lt;int&gt;</th><th scope=col>&lt;int&gt;</th><th scope=col>&lt;dbl&gt;</th><th scope=col>&lt;dbl&gt;</th><th scope=col>&lt;dbl&gt;</th><th scope=col>&lt;dbl&gt;</th><th scope=col>&lt;fct&gt;</th></tr>\n",
       "</thead>\n",
       "<tbody>\n",
       "\t<tr><th scope=row>1</th><td>  40</td><td>296397.3</td><td>5037515</td><td>Côte-Saint-Antoine</td><td>Hampton/Sherbrooke</td><td>C¶te-Saint-Antoine</td><td>Hampton/Sherbrooke</td><td>27/02/2009</td><td>0</td><td>0</td><td>⋯</td><td>0</td><td>0</td><td>0</td><td>0</td><td>1</td><td>3932.077</td><td>8.276923</td><td>0.2603828</td><td>0</td><td>C¶te-des-Neiges-Notre-Dame-de-Graces</td></tr>\n",
       "\t<tr><th scope=row>2</th><td> 263</td><td>300293.3</td><td>5038406</td><td>Centre            </td><td>Wellington        </td><td>Centre            </td><td>Wellington        </td><td>20/11/2007</td><td>0</td><td>0</td><td>⋯</td><td>0</td><td>1</td><td>0</td><td>0</td><td>1</td><td>2097.060</td><td>7.648292</td><td>0.7816052</td><td>0</td><td>Sud-Ouest                           </td></tr>\n",
       "\t<tr><th scope=row>3</th><td>1107</td><td>301317.1</td><td>5039803</td><td>Pierre-Dupuy      </td><td>Habitats 67       </td><td>Pierre-Dupuy      </td><td>Habitats 67       </td><td>09/09/2009</td><td>0</td><td>0</td><td>⋯</td><td>0</td><td>2</td><td>1</td><td>0</td><td>0</td><td>2112.164</td><td>7.655468</td><td>0.8896672</td><td>0</td><td>Ville-Marie                         </td></tr>\n",
       "\t<tr><th scope=row>4</th><td>1364</td><td>299985.9</td><td>5037138</td><td>Charlevoix        </td><td>Wellington        </td><td>Charlevoix        </td><td>Wellington        </td><td>10/12/2007</td><td>0</td><td>0</td><td>⋯</td><td>0</td><td>0</td><td>0</td><td>0</td><td>0</td><td>3172.770</td><td>8.062361</td><td>1.0932755</td><td>0</td><td>Sud-Ouest                           </td></tr>\n",
       "\t<tr><th scope=row>5</th><td> 225</td><td>297859.8</td><td>5036983</td><td>Courcelle         </td><td>Notre-Dame        </td><td>Courcelle         </td><td>Notre-Dame        </td><td>15/11/2006</td><td>0</td><td>0</td><td>⋯</td><td>0</td><td>0</td><td>0</td><td>0</td><td>0</td><td>3525.406</td><td>8.167751</td><td>1.0479296</td><td>0</td><td>Sud-Ouest                           </td></tr>\n",
       "</tbody>\n",
       "</table>\n"
      ],
      "text/latex": [
       "A data.frame: 5 × 59\n",
       "\\begin{tabular}{r|lllllllllllllllllllll}\n",
       "  & int\\_no & x & y & rue\\_1 & rue\\_2 & street\\_1 & street\\_2 & date\\_ & all\\_pedest & pi & ⋯ & any\\_exclus & commercial & curb\\_exten & all\\_red\\_an & new\\_half\\_r & distdt & ln\\_distdt & traffic\\_10000 & ped\\_100 & borough\\\\\n",
       "  & <int> & <dbl> & <dbl> & <fct> & <fct> & <fct> & <fct> & <fct> & <int> & <dbl> & ⋯ & <int> & <int> & <int> & <int> & <int> & <dbl> & <dbl> & <dbl> & <dbl> & <fct>\\\\\n",
       "\\hline\n",
       "\t1 &   40 & 296397.3 & 5037515 & Côte-Saint-Antoine & Hampton/Sherbrooke & C¶te-Saint-Antoine & Hampton/Sherbrooke & 27/02/2009 & 0 & 0 & ⋯ & 0 & 0 & 0 & 0 & 1 & 3932.077 & 8.276923 & 0.2603828 & 0 & C¶te-des-Neiges-Notre-Dame-de-Graces\\\\\n",
       "\t2 &  263 & 300293.3 & 5038406 & Centre             & Wellington         & Centre             & Wellington         & 20/11/2007 & 0 & 0 & ⋯ & 0 & 1 & 0 & 0 & 1 & 2097.060 & 7.648292 & 0.7816052 & 0 & Sud-Ouest                           \\\\\n",
       "\t3 & 1107 & 301317.1 & 5039803 & Pierre-Dupuy       & Habitats 67        & Pierre-Dupuy       & Habitats 67        & 09/09/2009 & 0 & 0 & ⋯ & 0 & 2 & 1 & 0 & 0 & 2112.164 & 7.655468 & 0.8896672 & 0 & Ville-Marie                         \\\\\n",
       "\t4 & 1364 & 299985.9 & 5037138 & Charlevoix         & Wellington         & Charlevoix         & Wellington         & 10/12/2007 & 0 & 0 & ⋯ & 0 & 0 & 0 & 0 & 0 & 3172.770 & 8.062361 & 1.0932755 & 0 & Sud-Ouest                           \\\\\n",
       "\t5 &  225 & 297859.8 & 5036983 & Courcelle          & Notre-Dame         & Courcelle          & Notre-Dame         & 15/11/2006 & 0 & 0 & ⋯ & 0 & 0 & 0 & 0 & 0 & 3525.406 & 8.167751 & 1.0479296 & 0 & Sud-Ouest                           \\\\\n",
       "\\end{tabular}\n"
      ],
      "text/markdown": [
       "\n",
       "A data.frame: 5 × 59\n",
       "\n",
       "| <!--/--> | int_no &lt;int&gt; | x &lt;dbl&gt; | y &lt;dbl&gt; | rue_1 &lt;fct&gt; | rue_2 &lt;fct&gt; | street_1 &lt;fct&gt; | street_2 &lt;fct&gt; | date_ &lt;fct&gt; | all_pedest &lt;int&gt; | pi &lt;dbl&gt; | ⋯ ⋯ | any_exclus &lt;int&gt; | commercial &lt;int&gt; | curb_exten &lt;int&gt; | all_red_an &lt;int&gt; | new_half_r &lt;int&gt; | distdt &lt;dbl&gt; | ln_distdt &lt;dbl&gt; | traffic_10000 &lt;dbl&gt; | ped_100 &lt;dbl&gt; | borough &lt;fct&gt; |\n",
       "|---|---|---|---|---|---|---|---|---|---|---|---|---|---|---|---|---|---|---|---|---|---|\n",
       "| 1 |   40 | 296397.3 | 5037515 | Côte-Saint-Antoine | Hampton/Sherbrooke | C¶te-Saint-Antoine | Hampton/Sherbrooke | 27/02/2009 | 0 | 0 | ⋯ | 0 | 0 | 0 | 0 | 1 | 3932.077 | 8.276923 | 0.2603828 | 0 | C¶te-des-Neiges-Notre-Dame-de-Graces |\n",
       "| 2 |  263 | 300293.3 | 5038406 | Centre             | Wellington         | Centre             | Wellington         | 20/11/2007 | 0 | 0 | ⋯ | 0 | 1 | 0 | 0 | 1 | 2097.060 | 7.648292 | 0.7816052 | 0 | Sud-Ouest                            |\n",
       "| 3 | 1107 | 301317.1 | 5039803 | Pierre-Dupuy       | Habitats 67        | Pierre-Dupuy       | Habitats 67        | 09/09/2009 | 0 | 0 | ⋯ | 0 | 2 | 1 | 0 | 0 | 2112.164 | 7.655468 | 0.8896672 | 0 | Ville-Marie                          |\n",
       "| 4 | 1364 | 299985.9 | 5037138 | Charlevoix         | Wellington         | Charlevoix         | Wellington         | 10/12/2007 | 0 | 0 | ⋯ | 0 | 0 | 0 | 0 | 0 | 3172.770 | 8.062361 | 1.0932755 | 0 | Sud-Ouest                            |\n",
       "| 5 |  225 | 297859.8 | 5036983 | Courcelle          | Notre-Dame         | Courcelle          | Notre-Dame         | 15/11/2006 | 0 | 0 | ⋯ | 0 | 0 | 0 | 0 | 0 | 3525.406 | 8.167751 | 1.0479296 | 0 | Sud-Ouest                            |\n",
       "\n"
      ],
      "text/plain": [
       "  int_no x        y       rue_1              rue_2             \n",
       "1   40   296397.3 5037515 Côte-Saint-Antoine Hampton/Sherbrooke\n",
       "2  263   300293.3 5038406 Centre             Wellington        \n",
       "3 1107   301317.1 5039803 Pierre-Dupuy       Habitats 67       \n",
       "4 1364   299985.9 5037138 Charlevoix         Wellington        \n",
       "5  225   297859.8 5036983 Courcelle          Notre-Dame        \n",
       "  street_1           street_2           date_      all_pedest pi ⋯ any_exclus\n",
       "1 C¶te-Saint-Antoine Hampton/Sherbrooke 27/02/2009 0          0  ⋯ 0         \n",
       "2 Centre             Wellington         20/11/2007 0          0  ⋯ 0         \n",
       "3 Pierre-Dupuy       Habitats 67        09/09/2009 0          0  ⋯ 0         \n",
       "4 Charlevoix         Wellington         10/12/2007 0          0  ⋯ 0         \n",
       "5 Courcelle          Notre-Dame         15/11/2006 0          0  ⋯ 0         \n",
       "  commercial curb_exten all_red_an new_half_r distdt   ln_distdt traffic_10000\n",
       "1 0          0          0          1          3932.077 8.276923  0.2603828    \n",
       "2 1          0          0          1          2097.060 7.648292  0.7816052    \n",
       "3 2          1          0          0          2112.164 7.655468  0.8896672    \n",
       "4 0          0          0          0          3172.770 8.062361  1.0932755    \n",
       "5 0          0          0          0          3525.406 8.167751  1.0479296    \n",
       "  ped_100 borough                             \n",
       "1 0       C¶te-des-Neiges-Notre-Dame-de-Graces\n",
       "2 0       Sud-Ouest                           \n",
       "3 0       Ville-Marie                         \n",
       "4 0       Sud-Ouest                           \n",
       "5 0       Sud-Ouest                           "
      ]
     },
     "metadata": {},
     "output_type": "display_data"
    }
   ],
   "source": [
    "# Importing the data\n",
    "df <- read.csv(\"saaq.csv\", sep = \";\", stringsAsFactors = TRUE)\n",
    "df[c(\"X\", \"X.1\")] <- NULL\n",
    "head(df, 5)"
   ]
  },
  {
   "cell_type": "markdown",
   "metadata": {},
   "source": [
    "We will remove the variables `street_1`, `street_2`, `rue_1`, and `rue_2` as these variables are deemed unnecessary for our study. The variables `x` and `y` (longitude and latitude) are also excluded as they are not correlated with the variable `acc`. Lastly, the variable `date_` is excluded as it only represents the date of recording safety measures and is not related to the accidents themselves."
   ]
  },
  {
   "cell_type": "markdown",
   "metadata": {},
   "source": [
    "The correclation between longitude and latitude and the target variable acc"
   ]
  },
  {
   "cell_type": "code",
   "execution_count": 48,
   "metadata": {
    "vscode": {
     "languageId": "r"
    }
   },
   "outputs": [
    {
     "data": {
      "text/html": [
       "0.0618774247682539"
      ],
      "text/latex": [
       "0.0618774247682539"
      ],
      "text/markdown": [
       "0.0618774247682539"
      ],
      "text/plain": [
       "[1] 0.06187742"
      ]
     },
     "metadata": {},
     "output_type": "display_data"
    },
    {
     "data": {
      "text/html": [
       "-0.00288684384406864"
      ],
      "text/latex": [
       "-0.00288684384406864"
      ],
      "text/markdown": [
       "-0.00288684384406864"
      ],
      "text/plain": [
       "[1] -0.002886844"
      ]
     },
     "metadata": {},
     "output_type": "display_data"
    }
   ],
   "source": [
    "cor(df$x, df$acc)\n",
    "cor(df$y, df$acc)"
   ]
  },
  {
   "cell_type": "code",
   "execution_count": null,
   "metadata": {
    "vscode": {
     "languageId": "r"
    }
   },
   "outputs": [],
   "source": []
  },
  {
   "cell_type": "code",
   "execution_count": 45,
   "metadata": {
    "vscode": {
     "languageId": "r"
    }
   },
   "outputs": [],
   "source": [
    "df[c(\"x\", \"y\", \"rue_1\", \"rue_2\", \"street_1\", \"street_2\", \"date_\")] <- NULL"
   ]
  }
 ],
 "metadata": {
  "kernelspec": {
   "display_name": "R",
   "language": "R",
   "name": "ir"
  },
  "language_info": {
   "codemirror_mode": "r",
   "file_extension": ".r",
   "mimetype": "text/x-r-source",
   "name": "R",
   "pygments_lexer": "r",
   "version": "4.2.2"
  }
 },
 "nbformat": 4,
 "nbformat_minor": 2
}
